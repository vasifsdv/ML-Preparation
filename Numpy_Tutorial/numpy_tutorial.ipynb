{
 "cells": [
  {
   "cell_type": "markdown",
   "id": "ca0b8a43-52ec-42ab-b299-7b5a97df0b59",
   "metadata": {},
   "source": [
    "# Numpy Tutorials"
   ]
  },
  {
   "cell_type": "markdown",
   "id": "ca8f572f-3ae2-489f-a265-dae98cfcf8a7",
   "metadata": {},
   "source": [
    "<font size=3>Numpy is a python library which is used to do operations with multidimensional arrays easily and fast. It is possible to do complex mathematical computations and algorithms with numpy. It is way more faster than the python lists because the variables are storen in memory in homogeneous type.\n",
    "\n",
    "<font size=3> This is a tutorial for learning some mainly used functions in numpy library.\n",
    "</font>"
   ]
  },
  {
   "cell_type": "code",
   "execution_count": 50,
   "id": "a91f390b-d00b-4659-ad54-4e92a0d6f5b8",
   "metadata": {
    "tags": []
   },
   "outputs": [],
   "source": [
    "import numpy as np\n",
    "import seaborn as sns\n",
    "import matplotlib.pyplot as plt"
   ]
  },
  {
   "cell_type": "code",
   "execution_count": 2,
   "id": "622754b5-2292-445d-af39-eb0284ad9ff7",
   "metadata": {
    "tags": []
   },
   "outputs": [
    {
     "data": {
      "text/plain": [
       "list"
      ]
     },
     "execution_count": 2,
     "metadata": {},
     "output_type": "execute_result"
    }
   ],
   "source": [
    "my_array = [1,2,3,4]\n",
    "type(my_array)"
   ]
  },
  {
   "cell_type": "code",
   "execution_count": 3,
   "id": "3f0e5f48-2c96-4eeb-9822-603d8a1c92ba",
   "metadata": {
    "tags": []
   },
   "outputs": [
    {
     "data": {
      "text/plain": [
       "numpy.ndarray"
      ]
     },
     "execution_count": 3,
     "metadata": {},
     "output_type": "execute_result"
    }
   ],
   "source": [
    "numpy_array = np.array([1,2,3,4])\n",
    "type(numpy_array)"
   ]
  },
  {
   "cell_type": "code",
   "execution_count": 7,
   "id": "4e038172-6036-42d2-90c8-97c83885f360",
   "metadata": {
    "tags": []
   },
   "outputs": [
    {
     "name": "stdout",
     "output_type": "stream",
     "text": [
      "<class 'numpy.ndarray'>\n"
     ]
    },
    {
     "data": {
      "text/plain": [
       "array([[ 1,  3,  5,  7],\n",
       "       [ 2,  4,  6,  8],\n",
       "       [12, 18, 21, 16]])"
      ]
     },
     "execution_count": 7,
     "metadata": {},
     "output_type": "execute_result"
    }
   ],
   "source": [
    "# Matrix - 2D array\n",
    "arr1 = [1,3,5,7]\n",
    "arr2 = [2,4,6,8]\n",
    "arr3 = [12,18,21,16]\n",
    "\n",
    "matrx = np.array([arr1,arr2,arr3])\n",
    "print(type(matrx))\n",
    "matrx"
   ]
  },
  {
   "cell_type": "code",
   "execution_count": 8,
   "id": "0b3ce749-125b-4184-ab61-00e8027932c5",
   "metadata": {
    "tags": []
   },
   "outputs": [
    {
     "data": {
      "text/plain": [
       "(3, 4)"
      ]
     },
     "execution_count": 8,
     "metadata": {},
     "output_type": "execute_result"
    }
   ],
   "source": [
    "# Shape of array\n",
    "matrx.shape"
   ]
  },
  {
   "cell_type": "markdown",
   "id": "7ce20704-29cd-41a8-ad5f-6612dc8f527c",
   "metadata": {},
   "source": [
    "shape -> (a,b) \n",
    "\n",
    "a - rows\n",
    "b - columns"
   ]
  },
  {
   "cell_type": "markdown",
   "id": "e1685d52-5f6b-420f-bc39-9207f1ac511e",
   "metadata": {},
   "source": [
    "## Indexing"
   ]
  },
  {
   "cell_type": "code",
   "execution_count": 9,
   "id": "2823735f-9632-4c32-88d9-111c3b8ec9d3",
   "metadata": {
    "tags": []
   },
   "outputs": [],
   "source": [
    "# Accessing to array elements"
   ]
  },
  {
   "cell_type": "code",
   "execution_count": 11,
   "id": "210136b2-cb7e-42f5-b763-09032e466f79",
   "metadata": {
    "tags": []
   },
   "outputs": [
    {
     "data": {
      "text/plain": [
       "21"
      ]
     },
     "execution_count": 11,
     "metadata": {},
     "output_type": "execute_result"
    }
   ],
   "source": [
    "arr = [1,12,43,21,6,7,89]\n",
    "arr[3]\n",
    "\n",
    "# index: [0,1,2,3,4,5,6]\n",
    "# value: [1,12,43,21,6,7,89]"
   ]
  },
  {
   "cell_type": "code",
   "execution_count": 31,
   "id": "ad860cd3-8b64-4528-bae1-b9536e182881",
   "metadata": {
    "tags": []
   },
   "outputs": [],
   "source": [
    "arr1 = np.array([[1,12,4,3,16,7],\n",
    "                [8,11,15,16,87,32],\n",
    "                [1,0,12,60,44,21],\n",
    "                [85,18,111,21,23,79]])"
   ]
  },
  {
   "cell_type": "code",
   "execution_count": 16,
   "id": "c1ec1f98-6e76-4608-bd95-b2b677984104",
   "metadata": {
    "tags": []
   },
   "outputs": [
    {
     "data": {
      "text/plain": [
       "numpy.ndarray"
      ]
     },
     "execution_count": 16,
     "metadata": {},
     "output_type": "execute_result"
    }
   ],
   "source": [
    "type(arr1)"
   ]
  },
  {
   "cell_type": "code",
   "execution_count": 17,
   "id": "fe9c56a7-1eae-4f18-87ad-1b1736581679",
   "metadata": {
    "tags": []
   },
   "outputs": [
    {
     "data": {
      "text/plain": [
       "array([[11, 15, 16],\n",
       "       [ 0, 12, 60]])"
      ]
     },
     "execution_count": 17,
     "metadata": {},
     "output_type": "execute_result"
    }
   ],
   "source": [
    "# acces to the elements [[11,15,16],\n",
    "                    # [0,12,60]]\n",
    "    \n",
    "# Here the elements are between the 1st and 2nd rows\n",
    "# and between first and third columns. Therefore, write:\n",
    "\n",
    "arr1[1:3, 1:4]"
   ]
  },
  {
   "cell_type": "markdown",
   "id": "86a3aaf0-48ef-4e04-92ae-6e20d3b7610b",
   "metadata": {},
   "source": [
    "arr[a:b, n:m]\n",
    "\n",
    "* a:b shows the taken rows. From a until b (b is not included)\n",
    "* n:m shows the taken columns. From n until m (m is not included)\n",
    "\n"
   ]
  },
  {
   "cell_type": "code",
   "execution_count": 19,
   "id": "a21b802b-6a88-4e7b-a14a-8651b0a917ce",
   "metadata": {
    "tags": []
   },
   "outputs": [
    {
     "data": {
      "text/plain": [
       "array([[ 1, 12,  4,  3, 16],\n",
       "       [ 8, 11, 15, 16, 87],\n",
       "       [ 1,  0, 12, 60, 44]])"
      ]
     },
     "execution_count": 19,
     "metadata": {},
     "output_type": "execute_result"
    }
   ],
   "source": [
    "arr1[:-1, :-1]"
   ]
  },
  {
   "cell_type": "code",
   "execution_count": 20,
   "id": "4524bd8f-c5b2-4b7f-85c2-aa461a73f1e8",
   "metadata": {
    "tags": []
   },
   "outputs": [
    {
     "data": {
      "text/plain": [
       "array([ 0, 12, 60])"
      ]
     },
     "execution_count": 20,
     "metadata": {},
     "output_type": "execute_result"
    }
   ],
   "source": [
    "arr1[2,1:4]"
   ]
  },
  {
   "cell_type": "code",
   "execution_count": 34,
   "id": "68caf59f-92e0-4e9e-8687-4c985fbd3922",
   "metadata": {
    "tags": []
   },
   "outputs": [
    {
     "data": {
      "text/plain": [
       "array([ 87,  85, 111,  79])"
      ]
     },
     "execution_count": 34,
     "metadata": {},
     "output_type": "execute_result"
    }
   ],
   "source": [
    "# Boolean conditions\n",
    "\n",
    "arr1[arr1 > 60]"
   ]
  },
  {
   "cell_type": "markdown",
   "id": "f54b5e56-ec3b-4e4f-9d7b-d873c375dc05",
   "metadata": {},
   "source": [
    "## Creating arrays"
   ]
  },
  {
   "cell_type": "markdown",
   "id": "75799366-624f-4e28-9fd6-a7826e7d5183",
   "metadata": {},
   "source": [
    "<font size = 2> ***arange(a,b)*** function creates an array consists of values between a,b with the given step. By default, the step is 1.  </font>"
   ]
  },
  {
   "cell_type": "code",
   "execution_count": 36,
   "id": "e18d5381-681d-404d-9361-5e446c5f8bc8",
   "metadata": {
    "tags": []
   },
   "outputs": [
    {
     "data": {
      "text/plain": [
       "array([0, 1, 2, 3, 4, 5, 6, 7, 8, 9])"
      ]
     },
     "execution_count": 36,
     "metadata": {},
     "output_type": "execute_result"
    }
   ],
   "source": [
    "np.arange(0,10)"
   ]
  },
  {
   "cell_type": "code",
   "execution_count": 37,
   "id": "d3ea9e53-09ce-4111-a399-f8e687e3a2fc",
   "metadata": {
    "tags": []
   },
   "outputs": [
    {
     "data": {
      "text/plain": [
       "array([ 0,  2,  4,  6,  8, 10, 12, 14, 16, 18])"
      ]
     },
     "execution_count": 37,
     "metadata": {},
     "output_type": "execute_result"
    }
   ],
   "source": [
    "np.arange(0,20,2)"
   ]
  },
  {
   "cell_type": "markdown",
   "id": "7784f651-40d9-4fce-9049-2553d6f0bf88",
   "metadata": {},
   "source": [
    "- <font size = 2> ***np.reshape(m,n)*** function converts the array to mxn sized matrix  </font>"
   ]
  },
  {
   "cell_type": "code",
   "execution_count": 38,
   "id": "453540f9-c116-4ab2-b0dc-9c5d59721504",
   "metadata": {
    "tags": []
   },
   "outputs": [
    {
     "data": {
      "text/plain": [
       "array([[ 0,  2,  4,  6,  8],\n",
       "       [10, 12, 14, 16, 18]])"
      ]
     },
     "execution_count": 38,
     "metadata": {},
     "output_type": "execute_result"
    }
   ],
   "source": [
    "np.arange(0,20,2).reshape(2,5)"
   ]
  },
  {
   "cell_type": "markdown",
   "id": "674a400d-78c0-49f6-aa04-d664335e743b",
   "metadata": {
    "tags": []
   },
   "source": [
    "- <font size = 2>***np.ones(m,n)*** function creates mxn sized array consisting of only 1s. </font>"
   ]
  },
  {
   "cell_type": "code",
   "execution_count": 41,
   "id": "3f439ef7-b855-48d6-a23f-dfc625e18be4",
   "metadata": {
    "tags": []
   },
   "outputs": [
    {
     "data": {
      "text/plain": [
       "array([[1, 1, 1, 1, 1, 1, 1],\n",
       "       [1, 1, 1, 1, 1, 1, 1],\n",
       "       [1, 1, 1, 1, 1, 1, 1],\n",
       "       [1, 1, 1, 1, 1, 1, 1]])"
      ]
     },
     "execution_count": 41,
     "metadata": {},
     "output_type": "execute_result"
    }
   ],
   "source": [
    "np.ones((4,7), dtype = int)"
   ]
  },
  {
   "cell_type": "markdown",
   "id": "457e5a7e-a454-42a2-b8cb-e6f9383f246a",
   "metadata": {},
   "source": [
    "- <font size = 2> ***np.random.rand()*** creates random float numbers and in the shape of normal distribution </font>"
   ]
  },
  {
   "cell_type": "code",
   "execution_count": 67,
   "id": "10b2a6a5-9d7c-4da3-834c-0525ea77df8f",
   "metadata": {
    "tags": []
   },
   "outputs": [
    {
     "name": "stdout",
     "output_type": "stream",
     "text": [
      "[ 5.93506180e-01 -1.92226350e+00  1.45879107e+00 -6.11543852e-01\n",
      " -1.42603217e+00  4.83299440e-01  6.50180831e-01  1.35625664e+00\n",
      " -1.49640646e+00 -3.20792799e-01 -4.05464598e-02 -7.80443278e-01\n",
      "  1.31202566e+00 -1.02293745e+00  1.95980705e-01  2.60297273e-01\n",
      " -3.04563000e-01  1.16869882e-02  1.01034408e+00 -8.07746126e-01\n",
      " -1.28319884e+00  8.45034370e-01 -4.79190088e-01  1.60726457e-01\n",
      " -2.01494041e+00 -5.63984849e-01  3.36767150e-01 -1.09439065e+00\n",
      "  1.33809760e+00  7.46622375e-02 -1.59780522e+00 -1.45491492e+00\n",
      " -7.36041286e-01  6.51403966e-01  2.67483660e-02 -1.04125557e+00\n",
      "  6.11843844e-01 -1.34135757e-01 -1.54881705e+00  1.89922373e-01\n",
      "  5.75519940e-01  1.05988190e+00 -6.12590747e-01 -3.07091035e-01\n",
      " -1.02774372e+00 -8.23328595e-01 -1.89979577e-01 -1.32524699e+00\n",
      " -4.52453268e-01 -7.42921873e-02 -9.64805990e-01  8.88966693e-01\n",
      " -4.65076484e-01 -1.51772680e-01 -1.55665314e+00 -1.46820459e+00\n",
      "  2.62431663e+00 -1.85129692e+00  2.90219036e-01 -3.07112790e+00\n",
      " -1.90149700e+00  7.38921062e-01 -7.43161742e-01 -1.20664744e+00\n",
      "  1.42740192e+00  1.13801884e+00  2.34473852e-01 -2.32344262e-01\n",
      " -9.29495967e-01 -2.66631872e-01 -8.13784190e-01  3.79710199e-01\n",
      "  1.22822771e-01  7.67048672e-01  8.27329714e-01  1.79976730e+00\n",
      "  6.57363156e-02 -1.96718932e-01  5.03735807e-01  7.67403237e-01\n",
      "  1.53146065e+00  1.15895374e+00 -6.96832995e-01  3.79475062e-01\n",
      " -1.06495840e+00  6.64676215e-01  6.55357913e-01 -1.80732971e+00\n",
      " -2.10227672e+00  1.18551175e+00 -1.08405126e+00 -1.12529839e-01\n",
      "  3.27501414e-02  2.63390919e-01 -7.22248055e-01 -4.49477481e-01\n",
      " -6.10573533e-01 -7.91381580e-01  2.79527216e-03 -1.05111983e+00\n",
      "  4.86079590e-01 -2.19495422e-01  1.15486253e+00  2.93751549e+00\n",
      "  2.07727250e-01  1.28867979e+00 -1.92230403e-01  8.50773454e-01\n",
      " -9.62633681e-01  9.93689800e-01  3.18594842e-01 -3.00466906e-01\n",
      " -5.12818190e-01 -8.95689226e-01  1.12772791e-01 -8.81021833e-01\n",
      " -2.47888682e-01  1.23530620e+00  5.64644844e-02 -1.50872199e+00]\n"
     ]
    },
    {
     "data": {
      "image/png": "[encoded data removed]",
      "text/plain": [
       "<Figure size 500x500 with 1 Axes>"
      ]
     },
     "metadata": {},
     "output_type": "display_data"
    }
   ],
   "source": [
    "array_rand = np.random.rand(120)\n",
    "sns.displot(array_rand)\n",
    "print(array_randn)"
   ]
  },
  {
   "cell_type": "code",
   "execution_count": 76,
   "id": "2adbc148-a96a-4a16-bc0b-7729977674b3",
   "metadata": {
    "tags": []
   },
   "outputs": [
    {
     "name": "stdout",
     "output_type": "stream",
     "text": [
      "[-5.35818369e-01  9.01894526e-01  1.30219553e-01  3.16603786e-01\n",
      " -9.65921679e-01  1.08604205e+00 -6.50893798e-01 -1.44934210e+00\n",
      " -1.05613059e+00 -2.74907440e-01  5.92972680e-01 -2.13997661e-01\n",
      " -5.18507858e-01  1.27962978e+00  5.25601570e-01 -4.26601352e-01\n",
      "  1.59363705e+00 -3.06112194e-01 -2.39801072e+00 -1.86503725e-01\n",
      "  5.04515911e-01  1.15241165e+00 -6.15022270e-01  7.30796720e-01\n",
      "  8.20356628e-01  2.89933774e-01 -4.15331957e-02  3.93360843e-01\n",
      "  1.45714988e+00  7.30455217e-05  5.31083825e-01  1.72733035e+00\n",
      "  9.73578360e-01 -5.24380498e-01  1.12788299e+00  1.01642010e+00\n",
      " -2.45912110e-02  5.65166020e-01 -7.50836563e-01 -8.59683594e-01\n",
      "  1.96507826e-01 -6.07694153e-01  1.84661749e+00  1.85604564e-01\n",
      " -4.44726696e-01 -5.88136596e-01  8.16364519e-01 -8.12834754e-01\n",
      " -2.07178636e+00  1.03314594e+00 -1.20668127e+00 -8.42864077e-01\n",
      " -1.75329849e-01  1.23427693e+00 -8.03024052e-01  1.14601710e+00\n",
      "  3.70799331e-01  3.64645671e-01 -1.49385974e+00  1.32167601e+00\n",
      " -5.02668453e-01  5.96402853e-01 -7.09139279e-01  4.07850408e-01\n",
      " -8.25820231e-02 -1.58627005e+00  3.76505302e-02  2.39517290e+00\n",
      " -9.82525896e-01 -1.24498196e+00  5.78308740e-01  1.41827348e-01\n",
      " -1.98448576e+00  1.11092448e+00  1.10624035e-01  1.24679042e+00\n",
      "  3.09109980e-01 -4.63242460e-01 -6.43051901e-01  9.82437137e-01\n",
      " -6.48222336e-02 -8.68251492e-01 -2.38974607e+00 -7.68114424e-01\n",
      "  4.66909861e-01  1.22853357e+00  4.07515907e-01  1.19134544e+00\n",
      "  4.89475771e-01 -3.66515831e-01 -1.35743642e+00  9.47869830e-01\n",
      " -2.13450776e-02  6.10043480e-01  6.13307058e-01 -3.97080124e-01\n",
      " -1.02603053e+00 -7.60637036e-01  1.23641767e+00  3.92014365e-01\n",
      "  7.65316919e-01 -1.84296700e-01 -8.32216269e-01  3.27029438e-01\n",
      "  5.21669961e-01  5.34137389e-01 -1.01929175e+00  1.52338786e+00\n",
      " -8.19866855e-01  2.40694271e+00 -4.33777471e-01  7.14856222e-01\n",
      "  4.53648227e-01 -8.04105081e-02  4.73990662e-01 -3.15115172e-01\n",
      " -3.34076222e-02 -1.52460755e+00  9.00809793e-01  1.19397812e+00]\n"
     ]
    },
    {
     "data": {
      "image/png": "[encoded data removed]",
      "text/plain": [
       "<Figure size 500x500 with 1 Axes>"
      ]
     },
     "metadata": {},
     "output_type": "display_data"
    }
   ],
   "source": [
    "array_randn = np.random.randn(120)\n",
    "sns.displot(array_randn,kde=True)\n",
    "print(array_randn)"
   ]
  },
  {
   "cell_type": "markdown",
   "id": "796aaa61-1749-40bb-9ca3-a19e08ac1879",
   "metadata": {},
   "source": [
    "- <font size = 2>  ***random.rand()*** creates random numbers with uniform distribution. However, ***random.randn()*** creates random numbers with normal distribution. Both of these functions has mean=0 and std=1. The  difference between these functions are visualized above. </font>"
   ]
  },
  {
   "cell_type": "markdown",
   "id": "8854637f-4a38-4b62-9d9e-9d2d8b5c6f06",
   "metadata": {},
   "source": [
    "### Random number generator functions of numpy"
   ]
  },
  {
   "cell_type": "markdown",
   "id": "65c874d7-bbab-442f-a8b5-4cdad59eae4d",
   "metadata": {},
   "source": [
    "- random.rand\n",
    "- random.randint\n",
    "- random.randn\n",
    "- random.random_integers\n",
    "- random.uniform\n",
    "- random.normal \n",
    "<br>There are a lot of random number generators in numpy library. Mainly used functions are these given above. </br>\n",
    "For learn about each algorithm go to page:https://numpy.org/doc/stable/reference/random/generator.html\n",
    "    "
   ]
  },
  {
   "cell_type": "markdown",
   "id": "107d6653-9357-4e0c-b224-a96580672d87",
   "metadata": {},
   "source": [
    "- <font size = 2>  ***np.linspace(start, stop, num)*** function creates and array with the number of *num* elements starting from *start* ending at *stop*</font>"
   ]
  },
  {
   "cell_type": "code",
   "execution_count": 77,
   "id": "c74cd354-37d2-48a5-9aed-4c903ecd9865",
   "metadata": {
    "tags": []
   },
   "outputs": [
    {
     "data": {
      "text/plain": [
       "array([  1.        ,  19.09090909,  37.18181818,  55.27272727,\n",
       "        73.36363636,  91.45454545, 109.54545455, 127.63636364,\n",
       "       145.72727273, 163.81818182, 181.90909091, 200.        ])"
      ]
     },
     "execution_count": 77,
     "metadata": {},
     "output_type": "execute_result"
    }
   ],
   "source": [
    "np.linspace(1,200,12)"
   ]
  },
  {
   "cell_type": "markdown",
   "id": "3fd8d8a9-8679-462e-9da1-b13e83d5e22a",
   "metadata": {},
   "source": [
    "- <font size = 2>  ***np.eye(n)*** creates *nxn* 2D array with the diagonal values 1, and 0 elsewhere </font>"
   ]
  },
  {
   "cell_type": "code",
   "execution_count": 78,
   "id": "956aeb83-c82c-42b3-95da-c2f0ae1b811a",
   "metadata": {
    "tags": []
   },
   "outputs": [
    {
     "data": {
      "text/plain": [
       "array([[1., 0., 0., 0., 0., 0.],\n",
       "       [0., 1., 0., 0., 0., 0.],\n",
       "       [0., 0., 1., 0., 0., 0.],\n",
       "       [0., 0., 0., 1., 0., 0.],\n",
       "       [0., 0., 0., 0., 1., 0.],\n",
       "       [0., 0., 0., 0., 0., 1.]])"
      ]
     },
     "execution_count": 78,
     "metadata": {},
     "output_type": "execute_result"
    }
   ],
   "source": [
    "np.eye(6)"
   ]
  },
  {
   "cell_type": "code",
   "execution_count": 80,
   "id": "d9d3afb9-a4bb-4622-9fe9-4d719deb204d",
   "metadata": {
    "tags": []
   },
   "outputs": [
    {
     "data": {
      "text/plain": [
       "array([[0., 0., 0., 0., 0., 0., 0., 0., 0., 0.],\n",
       "       [0., 0., 0., 0., 0., 0., 0., 0., 0., 0.],\n",
       "       [0., 0., 0., 0., 0., 0., 0., 0., 0., 0.],\n",
       "       [0., 0., 0., 0., 0., 0., 0., 0., 0., 0.],\n",
       "       [0., 0., 0., 0., 0., 0., 0., 0., 0., 0.],\n",
       "       [0., 0., 0., 0., 0., 0., 0., 0., 0., 0.],\n",
       "       [0., 0., 0., 0., 0., 0., 0., 0., 0., 0.]])"
      ]
     },
     "execution_count": 80,
     "metadata": {},
     "output_type": "execute_result"
    }
   ],
   "source": [
    "# Array of zeros\n",
    "np.zeros((7,10))"
   ]
  },
  {
   "cell_type": "markdown",
   "id": "d3c14e2c-c9ce-4711-aa10-dcd00dc117ed",
   "metadata": {},
   "source": [
    "### Array operations"
   ]
  },
  {
   "cell_type": "code",
   "execution_count": 111,
   "id": "d265c60a-9c28-4cdc-802e-2e6a8f727172",
   "metadata": {
    "tags": []
   },
   "outputs": [
    {
     "data": {
      "text/plain": [
       "array([[  1.        ,  14.26666667,  27.53333333,  40.8       ],\n",
       "       [ 54.06666667,  67.33333333,  80.6       ,  93.86666667],\n",
       "       [107.13333333, 120.4       , 133.66666667, 146.93333333],\n",
       "       [160.2       , 173.46666667, 186.73333333, 200.        ]])"
      ]
     },
     "execution_count": 111,
     "metadata": {},
     "output_type": "execute_result"
    }
   ],
   "source": [
    "arr1 = np.linspace(1,200,16)\n",
    "arr1 =arr1.reshape(4,4)\n",
    "arr1"
   ]
  },
  {
   "cell_type": "code",
   "execution_count": 109,
   "id": "21fb613f-f54b-48e7-b818-f9ad0de07900",
   "metadata": {
    "tags": []
   },
   "outputs": [
    {
     "data": {
      "text/plain": [
       "array([[ 1. ,  7.5, 14. , 20.5],\n",
       "       [27. , 33.5, 40. , 46.5],\n",
       "       [53. , 59.5, 66. , 72.5],\n",
       "       [79. , 85.5, 92. , 98.5]])"
      ]
     },
     "execution_count": 109,
     "metadata": {},
     "output_type": "execute_result"
    }
   ],
   "source": [
    "arr2 = np.arange(1,100,6.5)\n",
    "arr2 = arr2.reshape(4,4)\n",
    "arr2"
   ]
  },
  {
   "cell_type": "code",
   "execution_count": 113,
   "id": "5aff3bb6-3848-42ff-afef-f9958b6a49c9",
   "metadata": {
    "tags": []
   },
   "outputs": [
    {
     "data": {
      "text/plain": [
       "array([[1.00000000e+00, 1.07000000e+02, 3.85466667e+02, 8.36400000e+02],\n",
       "       [1.45980000e+03, 2.25566667e+03, 3.22400000e+03, 4.36480000e+03],\n",
       "       [5.67806667e+03, 7.16380000e+03, 8.82200000e+03, 1.06526667e+04],\n",
       "       [1.26558000e+04, 1.48314000e+04, 1.71794667e+04, 1.97000000e+04]])"
      ]
     },
     "execution_count": 113,
     "metadata": {},
     "output_type": "execute_result"
    }
   ],
   "source": [
    "sumof_arrays = arr1*arr2\n",
    "sumof_arrays"
   ]
  },
  {
   "cell_type": "code",
   "execution_count": 114,
   "id": "42eae074-01d6-48f1-8760-d8f37101ba09",
   "metadata": {
    "tags": []
   },
   "outputs": [],
   "source": [
    "multiplication = arr1*arr2"
   ]
  },
  {
   "cell_type": "code",
   "execution_count": 115,
   "id": "bd4dafd4-f617-46dc-8582-2fa07022d97d",
   "metadata": {
    "tags": []
   },
   "outputs": [
    {
     "data": {
      "text/plain": [
       "array([[1.00000000e+00, 1.07000000e+02, 3.85466667e+02, 8.36400000e+02],\n",
       "       [1.45980000e+03, 2.25566667e+03, 3.22400000e+03, 4.36480000e+03],\n",
       "       [5.67806667e+03, 7.16380000e+03, 8.82200000e+03, 1.06526667e+04],\n",
       "       [1.26558000e+04, 1.48314000e+04, 1.71794667e+04, 1.97000000e+04]])"
      ]
     },
     "execution_count": 115,
     "metadata": {},
     "output_type": "execute_result"
    }
   ],
   "source": [
    "multiplication"
   ]
  },
  {
   "cell_type": "code",
   "execution_count": 116,
   "id": "1bf4a871-76a2-4334-af8b-c8417f73fe63",
   "metadata": {
    "tags": []
   },
   "outputs": [
    {
     "data": {
      "text/plain": [
       "array([[1.        , 1.90222222, 1.96666667, 1.9902439 ],\n",
       "       [2.00246914, 2.00995025, 2.015     , 2.01863799],\n",
       "       [2.02138365, 2.02352941, 2.02525253, 2.02666667],\n",
       "       [2.0278481 , 2.0288499 , 2.02971014, 2.03045685]])"
      ]
     },
     "execution_count": 116,
     "metadata": {},
     "output_type": "execute_result"
    }
   ],
   "source": [
    "division = arr1/arr2\n",
    "division"
   ]
  },
  {
   "cell_type": "code",
   "execution_count": 117,
   "id": "0c7d8609-67fd-475c-9929-f4ab8afb4af6",
   "metadata": {
    "tags": []
   },
   "outputs": [
    {
     "data": {
      "text/plain": [
       "array([[  0.        ,   6.76666667,  13.53333333,  20.3       ],\n",
       "       [ 27.06666667,  33.83333333,  40.6       ,  47.36666667],\n",
       "       [ 54.13333333,  60.9       ,  67.66666667,  74.43333333],\n",
       "       [ 81.2       ,  87.96666667,  94.73333333, 101.5       ]])"
      ]
     },
     "execution_count": 117,
     "metadata": {},
     "output_type": "execute_result"
    }
   ],
   "source": [
    "subtraction = arr1-arr2\n",
    "subtraction"
   ]
  },
  {
   "cell_type": "code",
   "execution_count": 118,
   "id": "e30c0354-dcfe-499a-a29b-f617dce8d266",
   "metadata": {
    "tags": []
   },
   "outputs": [
    {
     "data": {
      "text/plain": [
       "array([[  0.5       ,   7.13333333,  13.76666667,  20.4       ],\n",
       "       [ 27.03333333,  33.66666667,  40.3       ,  46.93333333],\n",
       "       [ 53.56666667,  60.2       ,  66.83333333,  73.46666667],\n",
       "       [ 80.1       ,  86.73333333,  93.36666667, 100.        ]])"
      ]
     },
     "execution_count": 118,
     "metadata": {},
     "output_type": "execute_result"
    }
   ],
   "source": [
    "#divide by number\n",
    "arr1/2"
   ]
  }
 ],
 "metadata": {
  "kernelspec": {
   "display_name": "Python 3 (ipykernel)",
   "language": "python",
   "name": "python3"
  },
  "language_info": {
   "codemirror_mode": {
    "name": "ipython",
    "version": 3
   },
   "file_extension": ".py",
   "mimetype": "text/x-python",
   "name": "python",
   "nbconvert_exporter": "python",
   "pygments_lexer": "ipython3",
   "version": "3.10.9"
  }
 },
 "nbformat": 4,
 "nbformat_minor": 5
}
